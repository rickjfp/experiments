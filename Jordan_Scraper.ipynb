{
  "nbformat": 4,
  "nbformat_minor": 0,
  "metadata": {
    "colab": {
      "provenance": []
    },
    "kernelspec": {
      "name": "python3",
      "display_name": "Python 3"
    }
  },
  "cells": [
    {
      "cell_type": "markdown",
      "metadata": {
        "id": "vGWXpn643I8b"
      },
      "source": [
        "Calendar for upcoming sneaker launches: https://www.nike.com/launch?s=upcoming"
      ]
    },
    {
      "cell_type": "code",
      "metadata": {
        "id": "EmdZTRkGiAoR",
        "colab": {
          "base_uri": "https://localhost:8080/"
        },
        "outputId": "e497d7e9-c4ef-4135-dfcf-ce0a8a2cb833"
      },
      "source": [
        "#Web scraping packages\n",
        "from bs4 import BeautifulSoup\n",
        "import requests\n",
        "#Pandas for data manipulation\n",
        "import pandas as pd\n",
        "\n",
        "url=\"https://www.nike.com/launch?s=upcoming\"\n",
        "response = requests.get(url)\n",
        "if not response.status_code == 200:\n",
        "    print(\"request not successful\")\n",
        "else:\n",
        "    print(\"Request successful\")"
      ],
      "execution_count": null,
      "outputs": [
        {
          "output_type": "stream",
          "text": [
            "Request successful\n"
          ],
          "name": "stdout"
        }
      ]
    },
    {
      "cell_type": "code",
      "metadata": {
        "id": "6lVsQS6SGHF8",
        "colab": {
          "base_uri": "https://localhost:8080/"
        },
        "outputId": "c54ecc9e-0fd9-4271-8af0-c3b2d3fdbe9b"
      },
      "source": [
        "# create initial soup object\n",
        "soup = BeautifulSoup(response.content, 'lxml')\n",
        "key_data = soup.find_all('div', class_='product-card ncss-row mr0-sm ml0-sm')\n",
        "print(\"Got my soup\")"
      ],
      "execution_count": null,
      "outputs": [
        {
          "output_type": "stream",
          "text": [
            "Got my soup\n"
          ],
          "name": "stdout"
        }
      ]
    },
    {
      "cell_type": "code",
      "metadata": {
        "colab": {
          "base_uri": "https://localhost:8080/"
        },
        "id": "5KVkm_yL-hhQ",
        "outputId": "8f06b2e1-3501-41c5-a692-13407dfa41f8"
      },
      "source": [
        "# Create a list to store the values and iterate through them\n",
        "kd_list=[]\n",
        "# loop over the items obtained in the key_data object extracting the label and value from each\n",
        "for i in key_data:\n",
        "  items = []\n",
        "  shoe = i.find('h3',class_=\"headline-5\").get_text()\n",
        "  name = i.find('h6',class_=\"headline-3\").get_text()\n",
        "  date = i.find('a', href=True).get_text()\n",
        "  photo = i.find('a', href=True)['href']\n",
        "  data = (shoe + \": \" + name)\n",
        "  #items.append(shoe)#,name,date,photo)\n",
        "\n",
        "  print(shoe)\n",
        "\n",
        "#kd_list.append(data)\n",
        "\n",
        "#print(kd_list)\n",
        "\n",
        "#<div class=\"copy-container ta-sm-c bg-white pt6-sm pb7-sm pb7-lg\"><h3 class=\"headline-5\">SB Dunk Low Pro&nbsp;</h3><h6 class=\"headline-3\">Street Hawker&nbsp;</h6></div>"
      ],
      "execution_count": null,
      "outputs": [
        {
          "output_type": "stream",
          "text": [
            "SB Dunk Low Pro \n",
            "Jordan Delta Mid \n",
            "Virgil Abloh \n",
            "Women's Air Jordan 4 \n",
            "Air Max 1 LV8 \n",
            "Zoom Freak 2 \n",
            "Women’s Air Force 1 Pixel \n"
          ],
          "name": "stdout"
        }
      ]
    }
  ]
}