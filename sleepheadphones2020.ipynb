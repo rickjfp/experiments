{
  "nbformat": 4,
  "nbformat_minor": 0,
  "metadata": {
    "colab": {
      "name": "SleepHeadphones.ipynb",
      "provenance": [],
      "collapsed_sections": [],
      "include_colab_link": true
    },
    "kernelspec": {
      "name": "python3",
      "display_name": "Python 3"
    }
  },
  "cells": [
    {
      "cell_type": "markdown",
      "metadata": {
        "id": "view-in-github",
        "colab_type": "text"
      },
      "source": [
        "<a href=\"https://colab.research.google.com/gist/rickjfp/d8ecfa50694c648a79ab6629e2e3e1ea/sleepheadphones.ipynb\" target=\"_parent\"><img src=\"https://colab.research.google.com/assets/colab-badge.svg\" alt=\"Open In Colab\"/></a>"
      ]
    },
    {
      "cell_type": "code",
      "metadata": {
        "id": "HyU_d4en5Egi",
        "outputId": "6259734e-2c7c-4a16-a7e3-850d345cb374",
        "colab": {
          "base_uri": "https://localhost:8080/"
        }
      },
      "source": [
        "#Tool to select the best headphone based on feature importance. set variable weights 1, 2, or 3 (3 = most important)\n",
        "v_weights = {\n",
        "    \"Bluetooth\":2,\n",
        "    \"Multipoint\":2,\n",
        "    \"Style\":3,\n",
        "    \"Controls\":2,\n",
        "    \"Fit\":3,\n",
        "    \"Sound\":2,\n",
        "    \"Versatility\":1,\n",
        "    \"Price\":2}\n",
        "\n",
        "#total units to find average rating per unit\n",
        "denom = sum(v_weights.values())\n",
        "\n",
        "#create a list of products \n",
        "#add entries that match the order of variables in columns (rate 1-5)\n",
        "products = [\n",
        "  [\"Bose Sport Earbuds\",\"The earbud was bulkier and sound isolation was worse than expected. The price was too high for the drawbacks.\",5,4,5,5,2,3,5,2]\n",
        "  , [\"Beats Flex\",\"Not sweat resistant for workouts but there is a lot of value packed into a low price point.\",5,5,5,5,3,3,2,5]\n",
        "  , [\"Bose QC35\",\"Used as over-the-ear comparison, not good for side sleeping.\", 5,4,1,5,1,5,5,1]\n",
        "  , [\"Apple Airpods\",\"Apple buds never fit my ears - expensive price to need additional accessories to be effective.\",5,5,5,5,2,2,3,3]\n",
        "  , [\"Beats PowerBeats Pro\",\"My everyday headset is great but fails for side sleeping due to buttons.\",5,5,4,1,4,5,5,2]\n",
        "  , [\"Skullcandy Crusher Wireless\",\"Repurposed headset that needed replacing.\",5,2,1,5,1,4,3,4]\n",
        "  , [\"Bose Sleepbuds II\",\"Not enough options for content\",1,2,5,5,5,4,1,2]\n",
        "]\n",
        "\n",
        "#for each product, review the ratings and multiply rating by variable weight\n",
        "for i in products:\n",
        "  #need to start with the 3rd item in the list because of name and descriptions\n",
        "  c = 2 \n",
        "  total = 0\n",
        "  \n",
        "  for v in v_weights.values():\n",
        "    total = total + (v * i[c])\n",
        "    c = c+1\n",
        "  score = total/denom\n",
        "  print(i[0], \": \", round(score,2))"
      ],
      "execution_count": 1,
      "outputs": [
        {
          "output_type": "stream",
          "text": [
            "Bose Sport Earbuds :  3.76\n",
            "Beats Flex :  4.24\n",
            "Bose QC35 :  3.0\n",
            "Apple Airpods :  3.76\n",
            "Beats PowerBeats Pro :  3.82\n",
            "Skullcandy Crusher Wireless :  2.88\n",
            "Bose Sleepbuds II :  3.47\n"
          ],
          "name": "stdout"
        }
      ]
    }
  ]
}