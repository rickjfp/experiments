{
  "nbformat": 4,
  "nbformat_minor": 0,
  "metadata": {
    "colab": {
      "provenance": []
    },
    "kernelspec": {
      "name": "python3",
      "display_name": "Python 3"
    }
  },
  "cells": [
    {
      "cell_type": "markdown",
      "metadata": {
        "id": "KqV9ZV1Z1C1P"
      },
      "source": [
        "Create a connector to scrape:\n",
        "1. Income Statement\n",
        "2. Balance Sheet\n",
        "3. Statement of Cash Flow\n",
        "\n",
        "Potential website options for scraping:\n",
        "* https://www.marketwatch.com/investing/stock/msft/financials/balance-sheet\n",
        "* https://finance.yahoo.com/quote/MSFT/financials Income Statement\n",
        "* https://finance.yahoo.com/quote/MSFT/balance-sheet Balance"
      ]
    },
    {
      "cell_type": "code",
      "metadata": {
        "colab": {
          "base_uri": "https://localhost:8080/"
        },
        "id": "7QwXag1JyBMf",
        "outputId": "286435de-c351-4ce0-d341-5665fcf4d010"
      },
      "source": [
        "#import Web scraping packages and pandas\n",
        "from bs4 import BeautifulSoup\n",
        "import requests\n",
        "import pandas as pd\n",
        "\n",
        "def get_key_data(symbol):\n",
        "  #create the url string and check that it is valid\n",
        "  url =\"https://www.marketwatch.com/investing/stock/\" + symbol\n",
        "\n",
        "  response = requests.get(url)\n",
        "  if not response.status_code == 200:\n",
        "      print(\"request not successful\")\n",
        "  else:\n",
        "    #if valid create BS object\n",
        "    results_page = BeautifulSoup(response.content, 'lxml')\n",
        "    key_data=results_page.find_all('li', class_='kv__item')\n",
        "\n",
        "    #initialize new list to hold values\n",
        "    kd_list = []\n",
        "\n",
        "    #loop through and find all pairs then append to the list\n",
        "    for i in key_data:\n",
        "      label = i.find('small',class_='label').get_text()\n",
        "      value = i.find('span',class_='primary').get_text()\n",
        "      kd_list.append((label,value))\n",
        "\n",
        "    #have to use a return statement here in order to load the Dataframe\n",
        "    return(kd_list)\n",
        "\n",
        "results = get_key_data(\"msft\")\n",
        "print(pd.DataFrame(results))"
      ],
      "execution_count": null,
      "outputs": [
        {
          "output_type": "stream",
          "text": [
            "                     0                1\n",
            "0                 Open          $217.70\n",
            "1            Day Range  217.29 - 225.79\n",
            "2        52 Week Range  132.52 - 232.86\n",
            "3           Market Cap           $1.64T\n",
            "4   Shares Outstanding            7.56B\n",
            "5         Public Float            7.45B\n",
            "6                 Beta             1.20\n",
            "7    Rev. per Employee         $877.39K\n",
            "8            P/E Ratio            36.19\n",
            "9                  EPS            $6.20\n",
            "10               Yield            1.00%\n",
            "11            Dividend            $0.56\n",
            "12    Ex-Dividend Date     Feb 17, 2021\n",
            "13      Short Interest            39.2M\n",
            "14  % of Float Shorted            0.53%\n",
            "15      Average Volume           28.38M\n"
          ],
          "name": "stdout"
        }
      ]
    },
    {
      "cell_type": "code",
      "metadata": {
        "id": "fqqufQaWaGV1"
      },
      "source": [],
      "execution_count": null,
      "outputs": []
    },
    {
      "cell_type": "markdown",
      "metadata": {
        "id": "BGr5b6CR5TaV"
      },
      "source": [
        "Get Income Statement Data:\n",
        "\n",
        "https://www.marketwatch.com/investing/stock/msft/financials\n"
      ]
    },
    {
      "cell_type": "code",
      "metadata": {
        "colab": {
          "base_uri": "https://localhost:8080/"
        },
        "id": "oXLSDIGY2aBV",
        "outputId": "f0160df1-85a5-4802-c5ae-c4b5ab2e1ed5"
      },
      "source": [
        "#import Web scraping packages and pandas\n",
        "from bs4 import BeautifulSoup\n",
        "import requests\n",
        "import pandas as pd\n",
        "\n",
        "def get_income_statement(symbol):\n",
        "  # create the url string and check that it is valid\n",
        "  url=\"https://www.marketwatch.com/investing/stock/\" + symbol + \"/financials\"\n",
        "  response = requests.get(url)\n",
        "  if not response.status_code == 200:\n",
        "    print(\"Request not successful\")\n",
        "    exit()\n",
        "\n",
        "  else:\n",
        "    print(\"Connection Successful\")\n",
        "    # create a BS Object\n",
        "    results_page = BeautifulSoup(response.content, 'lxml')\n",
        "\n",
        "    # Access header details\n",
        "    key_data = results_page.find_all('th', class_='overflow__heading')\n",
        "\n",
        "    h_list = []\n",
        "    for i in key_data:\n",
        "      h_value = i.find('div',class_='cell__content').get_text()\n",
        "      h_list.append(h_value)\n",
        "\n",
        "    del h_list[-1]\n",
        "    return(h_list)\n",
        "\n",
        "print(get_income_statement(\"msft\"))"
      ],
      "execution_count": null,
      "outputs": [
        {
          "output_type": "stream",
          "text": [
            "Connection Successful\n",
            "['Item', '2016', '2017', '2018', '2019', '2020']\n"
          ],
          "name": "stdout"
        }
      ]
    }
  ]
}